{
 "cells": [
  {
   "cell_type": "code",
   "execution_count": 1,
   "metadata": {},
   "outputs": [
    {
     "name": "stderr",
     "output_type": "stream",
     "text": [
      "Using TensorFlow backend.\n"
     ]
    }
   ],
   "source": [
    "import data_loader\n",
    "import numpy as np\n",
    "import keras\n",
    "import pickle\n",
    "import os "
   ]
  },
  {
   "cell_type": "markdown",
   "metadata": {},
   "source": [
    "### Load the original data"
   ]
  },
  {
   "cell_type": "code",
   "execution_count": 2,
   "metadata": {},
   "outputs": [
    {
     "name": "stdout",
     "output_type": "stream",
     "text": [
      "train_images size is:  11086\n",
      "valid_images size is:  1226\n",
      "test_images size is:  1378\n",
      "label_dict size is:  8\n",
      "dict_keys(['sadness', 'contempt', 'surprise', 'happiness', 'fear', 'disgust', 'neutral', 'anger'])\n"
     ]
    }
   ],
   "source": [
    "img_dir_path = 'origin/images'\n",
    "label_file_path = 'origin/data/legend.csv'\n",
    "valid_rate = 0.1\n",
    "\n",
    "train_file_paths, \\\n",
    "y_train, \\\n",
    "valid_file_paths, \\\n",
    "y_valid, \\\n",
    "test_file_paths, \\\n",
    "y_test, \\\n",
    "label_dict = data_loader.load_dataset(img_dir_path, label_file_path, valid_rate)\n",
    "\n",
    "print('train_images size is: ', len(train_file_paths))\n",
    "print('valid_images size is: ', len(valid_file_paths))\n",
    "print('test_images size is: ', len(test_file_paths))\n",
    "print('label_dict size is: ', len(label_dict))\n",
    "print(label_dict.keys())"
   ]
  },
  {
   "cell_type": "markdown",
   "metadata": {},
   "source": [
    "### Load the extracted features by CNN"
   ]
  },
  {
   "cell_type": "code",
   "execution_count": 3,
   "metadata": {},
   "outputs": [
    {
     "name": "stdout",
     "output_type": "stream",
     "text": [
      "x_train is (11086, 512)\n",
      "x_valid is (1226, 512)\n",
      "x_test is (1378, 512)\n"
     ]
    }
   ],
   "source": [
    "with open(\"extract/x_train_norm\", \"rb\") as f:\n",
    "    x_train = np.array(pickle.load(f))\n",
    "\n",
    "with open(\"extract/x_valid_norm\", \"rb\") as f:\n",
    "    x_valid = np.array(pickle.load(f))\n",
    "\n",
    "with open(\"extract/x_test_norm\", \"rb\") as f:\n",
    "    x_test = np.array(pickle.load(f))\n",
    "\n",
    "print(\"x_train is\", x_train.shape)\n",
    "print(\"x_valid is\", x_valid.shape)\n",
    "print(\"x_test is\", x_test.shape)"
   ]
  },
  {
   "cell_type": "code",
   "execution_count": 4,
   "metadata": {},
   "outputs": [
    {
     "data": {
      "text/plain": [
       "(11086,)"
      ]
     },
     "execution_count": 4,
     "metadata": {},
     "output_type": "execute_result"
    }
   ],
   "source": [
    "y_train.shape"
   ]
  },
  {
   "cell_type": "code",
   "execution_count": 4,
   "metadata": {},
   "outputs": [
    {
     "name": "stdout",
     "output_type": "stream",
     "text": [
      "[0.04668649 0.01834312 0.01563531 0.03335703 0.00860873 0.00199967\n",
      " 0.01166063 0.07229225 0.06217672 0.00775019 0.04941142 0.01490266\n",
      " 0.02223296 0.10163697 0.0308977  0.01733001 0.00676396 0.\n",
      " 0.01707973 0.0636246  0.03180046 0.03533023 0.06297326 0.02789397\n",
      " 0.01069004 0.0029924  0.01485889 0.00663875 0.         0.0546362\n",
      " 0.00112814 0.05854592 0.00764264 0.03521162 0.00270499 0.02090574\n",
      " 0.04938011 0.04952344 0.04465076 0.02944676 0.01996635 0.01183683\n",
      " 0.03067296 0.00522783 0.02979122 0.00141997 0.00572725 0.05193046\n",
      " 0.0477648  0.01046932 0.         0.01858355 0.00073811 0.0166754\n",
      " 0.0688165  0.056336   0.03168477 0.00173453 0.00362746 0.09754843\n",
      " 0.03784222 0.02455144 0.02200243 0.01159612 0.12285333 0.01068822\n",
      " 0.03498529 0.08806266 0.00112241 0.01026112 0.04767127 0.02294808\n",
      " 0.01352609 0.05342175 0.08507624 0.01754083 0.04124191 0.02862307\n",
      " 0.00799282 0.0211107  0.         0.02313879 0.06126232 0.00267217\n",
      " 0.05358624 0.03952111 0.00935776 0.07391356 0.02166037 0.01442613\n",
      " 0.0115897  0.03783134 0.18269038 0.03348693 0.03835925 0.03664459\n",
      " 0.0184201  0.06401994 0.01884326 0.04005561 0.04098898 0.01088581\n",
      " 0.07405186 0.03196462 0.06326915 0.01143904 0.04819551 0.\n",
      " 0.07351001 0.04564879 0.0443373  0.01786705 0.0404284  0.06166338\n",
      " 0.         0.04866867 0.00397561 0.04511599 0.00407108 0.00442125\n",
      " 0.00120453 0.02184516 0.         0.02527754 0.02566864 0.03507935\n",
      " 0.         0.01342907 0.00429615 0.0102619  0.03286864 0.03226735\n",
      " 0.03126317 0.0004078  0.         0.04995746 0.06126202 0.07814112\n",
      " 0.0210985  0.04293889 0.00848772 0.02274657 0.0360859  0.\n",
      " 0.05383006 0.01049673 0.01867168 0.01404505 0.         0.\n",
      " 0.         0.02621422 0.04669783 0.04626538 0.0449605  0.04187956\n",
      " 0.09850748 0.040863   0.04919409 0.02629679 0.1221214  0.02170997\n",
      " 0.01818739 0.0384756  0.0119432  0.00376469 0.01687049 0.00323207\n",
      " 0.01862044 0.00380862 0.         0.0115075  0.01850953 0.02420272\n",
      " 0.01791839 0.00299089 0.07994179 0.03565792 0.01961494 0.05609661\n",
      " 0.07415636 0.040103   0.0132846  0.05689622 0.02204127 0.01508159\n",
      " 0.         0.         0.07855119 0.04039836 0.01697982 0.\n",
      " 0.         0.04058405 0.02868138 0.         0.0412099  0.01117649\n",
      " 0.03364888 0.06670059 0.04305562 0.         0.04669412 0.0367754\n",
      " 0.         0.         0.02884879 0.         0.14812517 0.01175328\n",
      " 0.00172605 0.03893866 0.01506456 0.07969892 0.07924663 0.0357342\n",
      " 0.09146107 0.01795381 0.09119355 0.03492453 0.0828442  0.10360672\n",
      " 0.03435031 0.03569818 0.01224044 0.01391531 0.01271754 0.00475035\n",
      " 0.03876125 0.08341129 0.13621531 0.03179671 0.         0.01866916\n",
      " 0.         0.03024914 0.         0.05864056 0.06174652 0.04650205\n",
      " 0.04398988 0.         0.08311848 0.17472112 0.02948436 0.01711949\n",
      " 0.         0.01792702 0.01633004 0.02280805 0.01147056 0.00419982\n",
      " 0.0600084  0.06643744 0.05007447 0.0067218  0.01783676 0.00838813\n",
      " 0.         0.00048707 0.01893947 0.06754076 0.00992959 0.02685554\n",
      " 0.00501747 0.16587636 0.01155837 0.10142265 0.01441296 0.\n",
      " 0.00026738 0.04151478 0.03669086 0.0257096  0.01702788 0.03308605\n",
      " 0.02379989 0.0007096  0.         0.00222647 0.05254563 0.01246621\n",
      " 0.03145598 0.0070593  0.01239638 0.03271831 0.04601982 0.07599057\n",
      " 0.02041363 0.00853171 0.05422015 0.00722157 0.01081125 0.008838\n",
      " 0.04140608 0.05074673 0.         0.03866337 0.10618152 0.01660774\n",
      " 0.         0.00786472 0.01406473 0.06291799 0.03058429 0.01592818\n",
      " 0.04867107 0.03098031 0.01151994 0.01118822 0.         0.02090689\n",
      " 0.         0.02516894 0.11515678 0.03908342 0.01604726 0.05584074\n",
      " 0.01370816 0.03399796 0.05501422 0.11218933 0.05237627 0.01450277\n",
      " 0.00354117 0.08974385 0.0232908  0.00370597 0.03451007 0.04933044\n",
      " 0.04613082 0.00470042 0.0123556  0.07102996 0.0094205  0.04096656\n",
      " 0.0754274  0.0559313  0.         0.0025341  0.05025558 0.0318965\n",
      " 0.00559105 0.02995616 0.         0.03205582 0.02747578 0.00431011\n",
      " 0.04751046 0.04088015 0.03906772 0.08555611 0.02384875 0.07497098\n",
      " 0.08837253 0.04739057 0.03955447 0.039497   0.04050175 0.02783756\n",
      " 0.02790905 0.03554804 0.04910178 0.0399797  0.02004173 0.02006459\n",
      " 0.07892636 0.04445342 0.         0.06550187 0.0060738  0.09474871\n",
      " 0.0008439  0.01621651 0.04727218 0.03287643 0.02332741 0.03702789\n",
      " 0.01534006 0.01671388 0.16320562 0.01556885 0.0477175  0.0470871\n",
      " 0.00384566 0.00935846 0.         0.02027041 0.01847219 0.11658262\n",
      " 0.06479299 0.01078672 0.00923373 0.00968587 0.05187051 0.00427215\n",
      " 0.06721327 0.04566063 0.08181623 0.04397231 0.03306516 0.01150704\n",
      " 0.01919059 0.0392884  0.04484173 0.0626001  0.02945415 0.05214773\n",
      " 0.03622437 0.09167851 0.01180309 0.00438509 0.0349152  0.06120811\n",
      " 0.01717125 0.0271736  0.0061522  0.0151202  0.         0.01556481\n",
      " 0.09070577 0.05485365 0.04801551 0.01783232 0.         0.02737782\n",
      " 0.06049673 0.06144021 0.01284656 0.         0.03483696 0.06566184\n",
      " 0.03979314 0.0948146  0.02233013 0.04686396 0.09495371 0.05862411\n",
      " 0.         0.01423914 0.02957858 0.04519115 0.02975954 0.00439474\n",
      " 0.05205014 0.01320711 0.03002294 0.01274141 0.02326668 0.00768347\n",
      " 0.04551301 0.00173496 0.02425419 0.00541862 0.07521036 0.0033723\n",
      " 0.01566425 0.03758872 0.0094503  0.         0.         0.13818546\n",
      " 0.01602215 0.         0.06124185 0.00425806 0.05228668 0.00762139\n",
      " 0.0118194  0.02478884 0.02083351 0.02336882 0.04851081 0.04291752\n",
      " 0.01291481 0.00835329 0.01079866 0.         0.04745059 0.01286435\n",
      " 0.01591288 0.06430782 0.00797626 0.02707558 0.03679291 0.04752336\n",
      " 0.08203653 0.         0.04174871 0.00248147 0.         0.03509802\n",
      " 0.03665195 0.         0.         0.0526439  0.03534323 0.03354911\n",
      " 0.0155955  0.08449168 0.03183389 0.01432958 0.07051023 0.01821357\n",
      " 0.05666225 0.01836012 0.05595734 0.05266019 0.         0.04413318\n",
      " 0.06090389 0.02652903]\n"
     ]
    }
   ],
   "source": [
    "print(x_train[0])"
   ]
  },
  {
   "cell_type": "code",
   "execution_count": 4,
   "metadata": {},
   "outputs": [
    {
     "name": "stdout",
     "output_type": "stream",
     "text": [
      "Index(['user.id', 'image', 'emotion'], dtype='object')\n",
      "anger\n",
      "surprise\n",
      "disgust\n",
      "fear\n",
      "neutral\n",
      "13690\n",
      "500\n",
      "y_train is (11086,)\n",
      "y_valid is (1226,)\n",
      "y_test is (1378,)\n",
      "sample: [0 8 2 3 5]\n"
     ]
    }
   ],
   "source": [
    "import matplotlib.pyplot as plt\n",
    "import pandas as pd\n",
    "\n",
    "train_data = pd.read_csv('./origin/data/legend.csv')\n",
    "test_data = pd.read_csv('./origin/data/500_picts_satz.csv')\n",
    "print(test_data.keys())\n",
    "\n",
    "print(train_data['emotion'][0])\n",
    "print(train_data['emotion'][1])\n",
    "print(train_data['emotion'][2])\n",
    "print(train_data['emotion'][3])\n",
    "print(train_data['emotion'][4])\n",
    "\n",
    "dic = {'anger':0, 'contempt':1, 'disgust':2, 'fear':3,\n",
    "      'happiness':4, 'neutral':5, 'sad':6, 'sadness':7,\n",
    "      'surprise':8}\n",
    "\n",
    "train_emotion = []\n",
    "test_emotion = []\n",
    "print(len(train_data['emotion']))\n",
    "print(len(test_data['emotion']))\n",
    "\n",
    "for i in range(len(train_data['emotion'])):\n",
    "    tmp = train_data['emotion'][i].lower()\n",
    "    tmp = int(dic[tmp])\n",
    "    train_emotion.append(tmp)\n",
    "\n",
    "y_train = train_emotion[0:11086]\n",
    "y_valid = train_emotion[11086:11086+1226]\n",
    "y_test = train_emotion[11086+1226:11086+1226+1378]\n",
    "\n",
    "y_train = np.array(y_train)\n",
    "y_valid = np.array(y_valid)\n",
    "y_test = np.array(y_test)\n",
    "\n",
    "print(\"y_train is\", y_train.shape)\n",
    "print(\"y_valid is\", y_valid.shape)\n",
    "print(\"y_test is\", y_test.shape)\n",
    "\n",
    "print('sample: ' + str(y_train[0:5]))"
   ]
  },
  {
   "cell_type": "code",
   "execution_count": 10,
   "metadata": {},
   "outputs": [
    {
     "data": {
      "text/html": [
       "<div>\n",
       "<style scoped>\n",
       "    .dataframe tbody tr th:only-of-type {\n",
       "        vertical-align: middle;\n",
       "    }\n",
       "\n",
       "    .dataframe tbody tr th {\n",
       "        vertical-align: top;\n",
       "    }\n",
       "\n",
       "    .dataframe thead th {\n",
       "        text-align: right;\n",
       "    }\n",
       "</style>\n",
       "<table border=\"1\" class=\"dataframe\">\n",
       "  <thead>\n",
       "    <tr style=\"text-align: right;\">\n",
       "      <th></th>\n",
       "      <th>user.id</th>\n",
       "      <th>image</th>\n",
       "      <th>emotion</th>\n",
       "    </tr>\n",
       "  </thead>\n",
       "  <tbody>\n",
       "    <tr>\n",
       "      <th>0</th>\n",
       "      <td>628</td>\n",
       "      <td>facial-expressions_2868588k.jpg</td>\n",
       "      <td>anger</td>\n",
       "    </tr>\n",
       "    <tr>\n",
       "      <th>1</th>\n",
       "      <td>628</td>\n",
       "      <td>facial-expressions_2868585k.jpg</td>\n",
       "      <td>surprise</td>\n",
       "    </tr>\n",
       "    <tr>\n",
       "      <th>2</th>\n",
       "      <td>628</td>\n",
       "      <td>facial-expressions_2868584k.jpg</td>\n",
       "      <td>disgust</td>\n",
       "    </tr>\n",
       "    <tr>\n",
       "      <th>3</th>\n",
       "      <td>628</td>\n",
       "      <td>facial-expressions_2868582k.jpg</td>\n",
       "      <td>fear</td>\n",
       "    </tr>\n",
       "    <tr>\n",
       "      <th>4</th>\n",
       "      <td>dwdii</td>\n",
       "      <td>Aaron_Eckhart_0001.jpg</td>\n",
       "      <td>neutral</td>\n",
       "    </tr>\n",
       "  </tbody>\n",
       "</table>\n",
       "</div>"
      ],
      "text/plain": [
       "  user.id                            image   emotion\n",
       "0     628  facial-expressions_2868588k.jpg     anger\n",
       "1     628  facial-expressions_2868585k.jpg  surprise\n",
       "2     628  facial-expressions_2868584k.jpg   disgust\n",
       "3     628  facial-expressions_2868582k.jpg      fear\n",
       "4   dwdii           Aaron_Eckhart_0001.jpg   neutral"
      ]
     },
     "execution_count": 10,
     "metadata": {},
     "output_type": "execute_result"
    }
   ],
   "source": [
    "train_data.head()"
   ]
  },
  {
   "cell_type": "code",
   "execution_count": 30,
   "metadata": {},
   "outputs": [
    {
     "data": {
      "text/html": [
       "<div>\n",
       "<style>\n",
       "    .dataframe thead tr:only-child th {\n",
       "        text-align: right;\n",
       "    }\n",
       "\n",
       "    .dataframe thead th {\n",
       "        text-align: left;\n",
       "    }\n",
       "\n",
       "    .dataframe tbody tr th {\n",
       "        vertical-align: top;\n",
       "    }\n",
       "</style>\n",
       "<table border=\"1\" class=\"dataframe\">\n",
       "  <thead>\n",
       "    <tr style=\"text-align: right;\">\n",
       "      <th></th>\n",
       "      <th>user.id</th>\n",
       "      <th>image</th>\n",
       "      <th>emotion</th>\n",
       "    </tr>\n",
       "  </thead>\n",
       "  <tbody>\n",
       "    <tr>\n",
       "      <th>0</th>\n",
       "      <td>906</td>\n",
       "      <td>Sourav_Ganguly_0003.jpg</td>\n",
       "      <td>fear</td>\n",
       "    </tr>\n",
       "    <tr>\n",
       "      <th>1</th>\n",
       "      <td>906</td>\n",
       "      <td>Sourav_Ganguly_0004.jpg</td>\n",
       "      <td>happiness</td>\n",
       "    </tr>\n",
       "    <tr>\n",
       "      <th>2</th>\n",
       "      <td>906</td>\n",
       "      <td>Sourav_Ganguly_0005.jpg</td>\n",
       "      <td>neutral</td>\n",
       "    </tr>\n",
       "    <tr>\n",
       "      <th>3</th>\n",
       "      <td>906</td>\n",
       "      <td>Spencer_Abraham_0001.jpg</td>\n",
       "      <td>anger</td>\n",
       "    </tr>\n",
       "    <tr>\n",
       "      <th>4</th>\n",
       "      <td>906</td>\n",
       "      <td>Spencer_Abraham_0003.jpg</td>\n",
       "      <td>anger</td>\n",
       "    </tr>\n",
       "  </tbody>\n",
       "</table>\n",
       "</div>"
      ],
      "text/plain": [
       "   user.id                     image    emotion\n",
       "0      906   Sourav_Ganguly_0003.jpg       fear\n",
       "1      906   Sourav_Ganguly_0004.jpg  happiness\n",
       "2      906   Sourav_Ganguly_0005.jpg    neutral\n",
       "3      906  Spencer_Abraham_0001.jpg      anger\n",
       "4      906  Spencer_Abraham_0003.jpg      anger"
      ]
     },
     "execution_count": 30,
     "metadata": {},
     "output_type": "execute_result"
    }
   ],
   "source": [
    "test_data.head()"
   ]
  },
  {
   "cell_type": "code",
   "execution_count": 13,
   "metadata": {},
   "outputs": [
    {
     "data": {
      "text/plain": [
       "(13690, 3)"
      ]
     },
     "execution_count": 13,
     "metadata": {},
     "output_type": "execute_result"
    }
   ],
   "source": [
    "train_data.shape"
   ]
  },
  {
   "cell_type": "code",
   "execution_count": null,
   "metadata": {
    "collapsed": true
   },
   "outputs": [],
   "source": []
  },
  {
   "cell_type": "code",
   "execution_count": 9,
   "metadata": {},
   "outputs": [
    {
     "name": "stdout",
     "output_type": "stream",
     "text": [
      "[0.03125, 0.125, 0.5, 2, 8, 32, 128, 512, 2048, 8192, 32768]\n",
      "[3.0517578125e-05, 0.0001220703125, 0.00048828125, 0.001953125, 0.0078125, 0.03125, 0.125, 0.5, 2, 8]\n"
     ]
    }
   ],
   "source": [
    "CScale = [-5, -3, -1, 1, 3, 5,7,9,11,13,15]\n",
    "gammaScale = [-15,-13,-11,-9,-7,-5,-3,-1,1,3]\n",
    "\n",
    "CScale = [2 ** i for i in CScale]\n",
    "gammaScale = [2 ** i for i in gammaScale]\n",
    "\n",
    "print(CScale)\n",
    "print(gammaScale)"
   ]
  },
  {
   "cell_type": "code",
   "execution_count": 7,
   "metadata": {},
   "outputs": [
    {
     "name": "stdout",
     "output_type": "stream",
     "text": [
      "The parameters of the best model are: \n",
      "{'C': 0.03125, 'gamma': 3.0517578125e-05, 'kernel': 'rbf'}\n"
     ]
    }
   ],
   "source": [
    "from sklearn.model_selection import GridSearchCV\n",
    "from sklearn import svm\n",
    "\n",
    "parameters = {'kernel':['rbf'], 'C':CScale, 'gamma':gammaScale}\n",
    "svr = svm.SVC(decision_function_shape='ovo')\n",
    "clf = GridSearchCV(svr, parameters, n_jobs=-1)\n",
    "clf.fit(x_train, y_train)\n",
    "print('The parameters of the best model are: ')\n",
    "print(clf.best_params_)\n",
    "train_acc = clf.score(x_train, y_train)\n",
    "print('train accuracy:{}'.format(train_acc))\n",
    "test_acc = clf.score(x_test, y_test)\n",
    "print('val accuracy:{}'.format(test_acc))"
   ]
  },
  {
   "cell_type": "code",
   "execution_count": 6,
   "metadata": {},
   "outputs": [
    {
     "name": "stdout",
     "output_type": "stream",
     "text": [
      "[1.25       1.66666667 2.08333333 2.5        2.91666667 3.33333333\n",
      " 3.75       4.16666667 4.58333333 5.        ]\n"
     ]
    }
   ],
   "source": [
    "minCScale = 0.5 * (0.5 + 2)\n",
    "maxCScale = 0.5 * (2 + 8)\n",
    "newCScale = np.linspace(minCScale, maxCScale, 10)\n",
    "\n",
    "minGammaScale = 0.5 * (2 + 0.5)\n",
    "maxGammaScale = 0.5 * (2 + 8)\n",
    "newGammaScale = np.linspace(minGammaScale, maxGammaScale, 10)\n",
    "\n",
    "print(newCScale)"
   ]
  },
  {
   "cell_type": "code",
   "execution_count": 9,
   "metadata": {},
   "outputs": [
    {
     "name": "stdout",
     "output_type": "stream",
     "text": [
      "The parameters of the best model are: \n",
      "{'C': 0.03125, 'gamma': 3.0517578125e-05, 'kernel': 'rbf'}\n"
     ]
    }
   ],
   "source": [
    "from sklearn.model_selection import GridSearchCV\n",
    "from sklearn import svm\n",
    "\n",
    "parameters = {'kernel':['rbf'], 'C':CScale, 'gamma':gammaScale}\n",
    "clf = svm.SVC(decision_function_shape='ovr')\n",
    "clf = GridSearchCV(svr, parameters, n_jobs=-1)\n",
    "clf.fit(x_train, y_train)\n",
    "print('The parameters of the best model are: ')\n",
    "print(clf.best_params_)"
   ]
  },
  {
   "cell_type": "code",
   "execution_count": null,
   "metadata": {
    "collapsed": true
   },
   "outputs": [],
   "source": []
  },
  {
   "cell_type": "code",
   "execution_count": null,
   "metadata": {
    "collapsed": true
   },
   "outputs": [],
   "source": []
  },
  {
   "cell_type": "code",
   "execution_count": 8,
   "metadata": {
    "scrolled": true
   },
   "outputs": [
    {
     "name": "stderr",
     "output_type": "stream",
     "text": [
      "/anaconda/lib/python3.6/site-packages/sklearn/model_selection/_split.py:581: Warning: The least populated class in y has only 1 members, which is too few. The minimum number of groups for any class cannot be less than n_splits=5.\n",
      "  % (min_groups, self.n_splits)), Warning)\n"
     ]
    },
    {
     "name": "stdout",
     "output_type": "stream",
     "text": [
      "Accuracy: 0.50 (+/- 0.01)\n"
     ]
    }
   ],
   "source": [
    "from sklearn.model_selection import cross_val_score\n",
    "from sklearn import svm\n",
    "clf = svm.SVC(decision_function_shape='ovo')\n",
    "\n",
    "scores = cross_val_score(clf, x_valid, y_valid, cv=5)\n",
    "print(\"Accuracy: %0.2f (+/- %0.2f)\" % (scores.mean(), scores.std() * 2))"
   ]
  },
  {
   "cell_type": "code",
   "execution_count": 22,
   "metadata": {},
   "outputs": [
    {
     "ename": "ValueError",
     "evalue": "Data is not binary and pos_label is not specified",
     "output_type": "error",
     "traceback": [
      "\u001b[0;31m---------------------------------------------------------------------------\u001b[0m",
      "\u001b[0;31mValueError\u001b[0m                                Traceback (most recent call last)",
      "\u001b[0;32m<ipython-input-22-67af206d4ca0>\u001b[0m in \u001b[0;36m<module>\u001b[0;34m\u001b[0m\n\u001b[1;32m      1\u001b[0m \u001b[0;32mfrom\u001b[0m \u001b[0msklearn\u001b[0m\u001b[0;34m.\u001b[0m\u001b[0mmetrics\u001b[0m \u001b[0;32mimport\u001b[0m \u001b[0mroc_curve\u001b[0m\u001b[0;34m,\u001b[0m \u001b[0mauc\u001b[0m\u001b[0;34m\u001b[0m\u001b[0m\n\u001b[1;32m      2\u001b[0m \u001b[0mval_res\u001b[0m \u001b[0;34m=\u001b[0m \u001b[0mclf\u001b[0m\u001b[0;34m.\u001b[0m\u001b[0mpredict_proba\u001b[0m\u001b[0;34m(\u001b[0m\u001b[0mx_valid\u001b[0m\u001b[0;34m)\u001b[0m\u001b[0;34m\u001b[0m\u001b[0m\n\u001b[0;32m----> 3\u001b[0;31m \u001b[0mfpr\u001b[0m\u001b[0;34m,\u001b[0m \u001b[0mtpr\u001b[0m\u001b[0;34m,\u001b[0m \u001b[0mthresholds\u001b[0m \u001b[0;34m=\u001b[0m \u001b[0mroc_curve\u001b[0m\u001b[0;34m(\u001b[0m\u001b[0my_valid\u001b[0m\u001b[0;34m,\u001b[0m \u001b[0mval_res\u001b[0m\u001b[0;34m[\u001b[0m\u001b[0;34m:\u001b[0m\u001b[0;34m,\u001b[0m\u001b[0;36m1\u001b[0m\u001b[0;34m]\u001b[0m\u001b[0;34m)\u001b[0m\u001b[0;34m\u001b[0m\u001b[0m\n\u001b[0m\u001b[1;32m      4\u001b[0m \u001b[0mplt\u001b[0m\u001b[0;34m.\u001b[0m\u001b[0mplot\u001b[0m\u001b[0;34m(\u001b[0m\u001b[0mfpr\u001b[0m\u001b[0;34m,\u001b[0m \u001b[0mtpr\u001b[0m\u001b[0;34m)\u001b[0m\u001b[0;34m\u001b[0m\u001b[0m\n\u001b[1;32m      5\u001b[0m \u001b[0mplt\u001b[0m\u001b[0;34m.\u001b[0m\u001b[0mplot\u001b[0m\u001b[0;34m(\u001b[0m\u001b[0;34m[\u001b[0m\u001b[0;36m0\u001b[0m\u001b[0;34m,\u001b[0m\u001b[0;36m1\u001b[0m\u001b[0;34m]\u001b[0m\u001b[0;34m,\u001b[0m\u001b[0;34m[\u001b[0m\u001b[0;36m1\u001b[0m\u001b[0;34m,\u001b[0m\u001b[0;36m0\u001b[0m\u001b[0;34m]\u001b[0m\u001b[0;34m,\u001b[0m\u001b[0;34m'--'\u001b[0m\u001b[0;34m,\u001b[0m\u001b[0mcolor\u001b[0m\u001b[0;34m=\u001b[0m\u001b[0;34m(\u001b[0m\u001b[0;36m0.6\u001b[0m\u001b[0;34m,\u001b[0m\u001b[0;36m0.6\u001b[0m\u001b[0;34m,\u001b[0m\u001b[0;36m0.6\u001b[0m\u001b[0;34m)\u001b[0m\u001b[0;34m,\u001b[0m\u001b[0mlabel\u001b[0m\u001b[0;34m=\u001b[0m\u001b[0;34m'luck'\u001b[0m\u001b[0;34m)\u001b[0m\u001b[0;34m\u001b[0m\u001b[0m\n",
      "\u001b[0;32m/anaconda/lib/python3.6/site-packages/sklearn/metrics/ranking.py\u001b[0m in \u001b[0;36mroc_curve\u001b[0;34m(y_true, y_score, pos_label, sample_weight, drop_intermediate)\u001b[0m\n\u001b[1;32m    503\u001b[0m     \"\"\"\n\u001b[1;32m    504\u001b[0m     fps, tps, thresholds = _binary_clf_curve(\n\u001b[0;32m--> 505\u001b[0;31m         y_true, y_score, pos_label=pos_label, sample_weight=sample_weight)\n\u001b[0m\u001b[1;32m    506\u001b[0m \u001b[0;34m\u001b[0m\u001b[0m\n\u001b[1;32m    507\u001b[0m     \u001b[0;31m# Attempt to drop thresholds corresponding to points in between and\u001b[0m\u001b[0;34m\u001b[0m\u001b[0;34m\u001b[0m\u001b[0m\n",
      "\u001b[0;32m/anaconda/lib/python3.6/site-packages/sklearn/metrics/ranking.py\u001b[0m in \u001b[0;36m_binary_clf_curve\u001b[0;34m(y_true, y_score, pos_label, sample_weight)\u001b[0m\n\u001b[1;32m    312\u001b[0m              \u001b[0marray_equal\u001b[0m\u001b[0;34m(\u001b[0m\u001b[0mclasses\u001b[0m\u001b[0;34m,\u001b[0m \u001b[0;34m[\u001b[0m\u001b[0;34m-\u001b[0m\u001b[0;36m1\u001b[0m\u001b[0;34m]\u001b[0m\u001b[0;34m)\u001b[0m \u001b[0;32mor\u001b[0m\u001b[0;34m\u001b[0m\u001b[0m\n\u001b[1;32m    313\u001b[0m              array_equal(classes, [1]))):\n\u001b[0;32m--> 314\u001b[0;31m         \u001b[0;32mraise\u001b[0m \u001b[0mValueError\u001b[0m\u001b[0;34m(\u001b[0m\u001b[0;34m\"Data is not binary and pos_label is not specified\"\u001b[0m\u001b[0;34m)\u001b[0m\u001b[0;34m\u001b[0m\u001b[0m\n\u001b[0m\u001b[1;32m    315\u001b[0m     \u001b[0;32melif\u001b[0m \u001b[0mpos_label\u001b[0m \u001b[0;32mis\u001b[0m \u001b[0;32mNone\u001b[0m\u001b[0;34m:\u001b[0m\u001b[0;34m\u001b[0m\u001b[0m\n\u001b[1;32m    316\u001b[0m         \u001b[0mpos_label\u001b[0m \u001b[0;34m=\u001b[0m \u001b[0;36m1.\u001b[0m\u001b[0;34m\u001b[0m\u001b[0m\n",
      "\u001b[0;31mValueError\u001b[0m: Data is not binary and pos_label is not specified"
     ]
    }
   ],
   "source": [
    "from sklearn.metrics \n",
    "import roc_curve, auc\n",
    "y_score = classifier.fit(x_train, y_train).decision_function(x_test) # 计算每一类的ROC \n",
    "fpr = dict() \n",
    "tpr = dict() \n",
    "roc_auc = dict() \n",
    "for i in range(n_classes): \n",
    "    fpr[i], tpr[i], _ = roc_curve(y_test[:, i], y_score[:, i]) \n",
    "    roc_auc[i] = auc(fpr[i], tpr[i])\n",
    "\n",
    "# val_res = clf.predict_proba(x_valid)\n",
    "# fpr, tpr, thresholds = roc_curve(y_valid, val_res[:,1])\n",
    "# plt.plot(fpr, tpr)\n",
    "# plt.plot([0,1],[1,0],'--',color=(0.6,0.6,0.6),label='luck')\n",
    "# plt.show()"
   ]
  },
  {
   "cell_type": "code",
   "execution_count": null,
   "metadata": {
    "collapsed": true
   },
   "outputs": [],
   "source": []
  },
  {
   "cell_type": "code",
   "execution_count": 5,
   "metadata": {},
   "outputs": [],
   "source": [
    "from sklearn import svm"
   ]
  },
  {
   "cell_type": "code",
   "execution_count": 27,
   "metadata": {},
   "outputs": [
    {
     "data": {
      "text/plain": [
       "SVC(C=1.0, cache_size=200, class_weight=None, coef0=0.0,\n",
       "  decision_function_shape='ovo', degree=3, gamma='auto', kernel='rbf',\n",
       "  max_iter=-1, probability=True, random_state=None, shrinking=True,\n",
       "  tol=0.001, verbose=False)"
      ]
     },
     "execution_count": 27,
     "metadata": {},
     "output_type": "execute_result"
    }
   ],
   "source": [
    "# clf = svm.SVC(decision_function_shape='ovo',probability=True)\n",
    "# clf.fit(x_train, y_train)"
   ]
  },
  {
   "cell_type": "code",
   "execution_count": 7,
   "metadata": {},
   "outputs": [
    {
     "name": "stdout",
     "output_type": "stream",
     "text": [
      "train accuracy:0.5261591196103194\n",
      "val accuracy:0.30406386066763424\n"
     ]
    }
   ],
   "source": [
    "#set best params\n",
    "params_svm = {'C': 0.03125, 'gamma': 3.0517578125e-05, 'kernel': 'rbf'}\n",
    "clf = svm.SVC(decision_function_shape='ovr',probability=True)\n",
    "clf.set_params(**params_svm)\n",
    "clf.fit(x_train, y_train)\n",
    "train_acc = clf.score(x_train, y_train)\n",
    "print('train accuracy:{}'.format(train_acc))\n",
    "test_acc = clf.score(x_test, y_test)\n",
    "print('val accuracy:{}'.format(test_acc))"
   ]
  },
  {
   "cell_type": "code",
   "execution_count": 9,
   "metadata": {},
   "outputs": [],
   "source": [
    "train_acc = clf.score(x_train, y_train)"
   ]
  },
  {
   "cell_type": "code",
   "execution_count": 10,
   "metadata": {},
   "outputs": [
    {
     "name": "stdout",
     "output_type": "stream",
     "text": [
      "train accuracy:0.5261591196103194\n"
     ]
    }
   ],
   "source": [
    "print('train accuracy:{}'.format(train_acc))"
   ]
  },
  {
   "cell_type": "code",
   "execution_count": 12,
   "metadata": {},
   "outputs": [
    {
     "name": "stdout",
     "output_type": "stream",
     "text": [
      "val accuracy:0.5024469820554649\n"
     ]
    }
   ],
   "source": [
    "val_acc = clf.score(x_valid, y_valid)\n",
    "# val_res = clf.predict_proba(x_valid)\n",
    "print('val accuracy:{}'.format(val_acc))"
   ]
  },
  {
   "cell_type": "code",
   "execution_count": 11,
   "metadata": {},
   "outputs": [
    {
     "name": "stdout",
     "output_type": "stream",
     "text": [
      "val accuracy:0.30406386066763424\n"
     ]
    }
   ],
   "source": [
    "test_acc = clf.score(x_test, y_test)\n",
    "print('val accuracy:{}'.format(test_acc))"
   ]
  },
  {
   "cell_type": "code",
   "execution_count": 19,
   "metadata": {},
   "outputs": [
    {
     "name": "stdout",
     "output_type": "stream",
     "text": [
      "train accuracy:0.5261591196103194\n",
      "val accuracy:0.30406386066763424\n"
     ]
    }
   ],
   "source": [
    "params_svm = {'C': 0.03125, 'gamma': 3.0517578125e-05, 'kernel': 'linear'}\n",
    "clf = svm.SVC(decision_function_shape='ovo',probability=True)\n",
    "clf.set_params(**params_svm)\n",
    "clf.fit(x_train, y_train)\n",
    "train_acc = clf.score(x_train, y_train)\n",
    "print('train accuracy:{}'.format(train_acc))\n",
    "test_acc = clf.score(x_test, y_test)\n",
    "print('val accuracy:{}'.format(test_acc))"
   ]
  },
  {
   "cell_type": "code",
   "execution_count": 24,
   "metadata": {},
   "outputs": [
    {
     "name": "stdout",
     "output_type": "stream",
     "text": [
      "train accuracy:0.5261591196103194\n",
      "val accuracy:0.30406386066763424\n"
     ]
    }
   ],
   "source": [
    "params_svm = {'C': 128, 'gamma': 3.0517578125e-05, 'kernel': 'poly'}\n",
    "clf = svm.SVC(decision_function_shape='ovo',probability=True)\n",
    "clf.set_params(**params_svm)\n",
    "clf.fit(x_train, y_train)\n",
    "train_acc = clf.score(x_train, y_train)\n",
    "print('train accuracy:{}'.format(train_acc))\n",
    "test_acc = clf.score(x_test, y_test)\n",
    "print('val accuracy:{}'.format(test_acc))"
   ]
  },
  {
   "cell_type": "code",
   "execution_count": null,
   "metadata": {},
   "outputs": [],
   "source": [
    "CScale =[0.03125, 0.125, 0.5, 2, 8, 32, 128, 512, 2048, 8192, 32768]\n",
    "gammaScale =[3.0517578125e-05, 0.0001220703125, 0.00048828125, 0.001953125, 0.0078125, 0.03125, 0.125, 0.5, 2, 8]\n",
    "clf = svm.SVC()\n",
    "for kernel in ('linear', 'poly', 'rbf'):\n",
    "    for gamma in gammaScale:\n",
    "        for C in CScale:\n",
    "            params_svm = {'C': C, 'gamma': gamma, 'kernel': kernel}\n",
    "            clf.set_params(**params_svm)\n",
    "            clf.fit(x_train, y_train)\n",
    "            train_acc = clf.score(x_train, y_train)\n",
    "            print('when kernel = '+str(kernel)+\" gamma = \"+str(gamma)+\" C = \"+str(C)+ ' train accuracy:{}'.format(train_acc))\n",
    "            test_acc = clf.score(x_test, y_test)\n",
    "            print('when kernel = '+str(kernel)+\" gamma = \"+str(gamma)+\" C = \"+str(C)+ ' val accuracy:{}'.format(test_acc))"
   ]
  },
  {
   "cell_type": "code",
   "execution_count": null,
   "metadata": {},
   "outputs": [],
   "source": []
  }
 ],
 "metadata": {
  "kernelspec": {
   "display_name": "Python 3",
   "language": "python",
   "name": "python3"
  },
  "language_info": {
   "codemirror_mode": {
    "name": "ipython",
    "version": 3
   },
   "file_extension": ".py",
   "mimetype": "text/x-python",
   "name": "python",
   "nbconvert_exporter": "python",
   "pygments_lexer": "ipython3",
   "version": "3.6.0"
  }
 },
 "nbformat": 4,
 "nbformat_minor": 2
}
